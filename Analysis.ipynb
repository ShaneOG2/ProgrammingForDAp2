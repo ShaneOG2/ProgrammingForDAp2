{
 "cells": [
  {
   "cell_type": "markdown",
   "id": "61d580fc",
   "metadata": {},
   "source": [
    "<h1 style=\"color: #001a79;\"> Wisconsin Breast Cancer Analysis Notebook</h1>\n",
    "\n",
    "<h3 style=\"color: #001a79;\">For this notebook you will need the following packages:</h3>"
   ]
  },
  {
   "cell_type": "code",
   "execution_count": 1,
   "id": "7ea3c46f",
   "metadata": {},
   "outputs": [],
   "source": [
    "import pandas as pd"
   ]
  },
  {
   "cell_type": "markdown",
   "id": "4d270a0e",
   "metadata": {},
   "source": [
    "<h2 style=\"color: #001a79;\">Introduction</h2>\n",
    "\n",
    "<hr style=\"border-top: 1px solid #001a79;\" />\n",
    "\n",
    "Breast cancer is a common cancer in Ireland with more than 3,500 women and approximately 35 men  diagnosed with breast cancer each year. Breast cancer is when cells in the breast grow and divide in an uncontrolled way. This creates a mass of tissue called a tumor. Signs of breast cancer can include feeling a lump in the breast, a change in the size of the breast and changes to the skin of the breasts. Breast cancer is treated with surgery, radiotherapy, chemotherapy, hormone therapy and targeted therapies, depending on the type.\n",
    "\n",
    "<img src=\"content/breast-cancer.jpg\" alt=\"Breast cancer\" style=\"width: 350px;\"/> \n",
    "\n",
    "Sources:<br>\n",
    "<a href=\"https://www.cancer.ie/cancer-information-and-support/cancer-types/breast-cancer#:~:text=Each%20year%20in%20Ireland%2C%20more,therapies%2C%20depending%20on%20the%20type.\" target=\"_blank\">Irish Cancer Society: Breast Cancer</a><br>\n",
    "<a href=\"https://my.clevelandclinic.org/health/diseases/3986-breast-cancer\" target=\"_blank\">Cleveland Clinic: Breast Cancer</a>"
   ]
  },
  {
   "cell_type": "markdown",
   "id": "711d8f72",
   "metadata": {},
   "source": [
    "The <a href=\"https://archive.ics.uci.edu/ml/datasets/Breast+Cancer+Wisconsin+%28Diagnostic%29\" target=\"_blank\">Wisconsin-Breast Cancer (Diagnostics) dataset</a> (WBC) from UCI machine learning repository is a classification dataset records the measurements for breast cancer cases. There are two classes Benign and Malignant:\n",
    "\n",
    "<table style=\"border-collapse: collapse; width: 80%; height: 261px;\" border=\"1\">\n",
    "<tbody>\n",
    "<tr>\n",
    "<td style=\"width: 50%; text-align: center;\">\n",
    "<h2><strong>1. Benign</strong></h2>\n",
    "</td>\n",
    "<td style=\"width: 50%; text-align: center;\">\n",
    "<h2><strong>2. Malignant</strong></h2>\n",
    "</td>\n",
    "</tr>\n",
    "<tr>\n",
    "<td style=\"width: 50%; text-align: center;\">\n",
    "<h3>Grow slowly and have distant borders.</h3>\n",
    "</td>\n",
    "<td style=\"width: 50%; text-align: center;\">\n",
    "<h3>Can grow quickly and have irregular borders.</h3>\n",
    "</td>\n",
    "</tr>\n",
    "<tr>\n",
    "<td style=\"width: 50%; text-align: center;\">\n",
    "<h3>Do not invade surrounding tissue.</h3>\n",
    "</td>\n",
    "<td style=\"width: 50%; text-align: center;\">\n",
    "<h3>Often invade surrounding tissue.</h3>\n",
    "</td>\n",
    "</tr>\n",
    "<tr>\n",
    "<td style=\"width: 50%; text-align: center;\">\n",
    "<h3>Do not invade other parts of the body.</h3>\n",
    "</td>\n",
    "<td style=\"width: 50%; text-align: center;\">\n",
    "<h3>Can spread to other parts of the body through a process called metastasis.&nbsp;</h3>\n",
    "</td>\n",
    "</tr>\n",
    "</tbody>\n",
    "</table>\n",
    "\n",
    "<img src=\"content/tumortype.PNG\" alt=\"Benign versus Malignant\" style=\"width: 550px;\"/> \n",
    "\n",
    "<a href=\"https://jamanetwork.com/journals/jamaoncology/fullarticle/2768634\" target=\"_blank\">JAMA Oncology: Benign vs Malignant Tumors</a><br>\n",
    "<a href=\"https://www.technologynetworks.com/cancer-research/articles/benign-vs-malignant-tumors-364765\" target=\"_blank\">Technology Networks (Cancer Research): Benign vs Malignant Tumors</a>"
   ]
  },
  {
   "cell_type": "markdown",
   "id": "56887673",
   "metadata": {},
   "source": [
    "<h2 style=\"color: #001a79;\">Breast Cancer Wisconsin (Diagnostic) Data Set</h2>\n",
    "\n",
    "<hr style=\"border-top: 1px solid #001a79;\" />\n",
    "\n",
    "### Background\n",
    "\n",
    "The diagnosis of breast tumors has traditionally been performed by a full biopsy. This process involves the extraction of sample cells or tissues for examination to determine the presence or extent of a disease. Dr. William H. Wolberg, physician at the University Of Wisconsin Hospital used fine needle aspirations (FNAs) to extract a small amount of breast tissue or fluid from the suspicious area with a thin, hollow needle and is then checked for cancer cells. \n",
    "\n",
    "Dr. Wolberg used fluid samples, taken from patients with solid breast masses \n",
    "\n",
    "and used an interactive computer system that evaluates and diagnoses based on cytologic features derived directly from a digital scan of FNA slides.\n",
    "\n",
    "the user initializes active contour models, known as snakes, near the boundaries of a set of cell nuclei. The customized snakes are deformed to the exact shape of the nuclei. This allows for precise, automated analysis of nuclear size, shape and texture. Ten such features are computed for each nucleus, and the mean value, largest (or 'worst') value and standard error of each feature are found over the range of isolated cells.\n",
    "\n",
    "\n",
    "569 patients provided the data to develop this system. The program uses a curve-fitting algorithm, to compute ten features from each one of the cells in the sample, then it calculates the mean value, extreme value and standard error of each feature for the image, returning a 30 real-value variables. \n",
    "\n",
    "Sources:<br>\n",
    "<a href=\"https://www.cancer.org/cancer/breast-cancer/screening-tests-and-early-detection/breast-biopsy/fine-needle-aspiration-biopsy-of-the-breast.html#:~:text=During%20a%20fine%20needle%20aspiration,needle%20biopsy%20is%20often%20preferred\" target=\"_blank\">Cancer.org: Fine Needle Aspiration (FNA) of the Breast</a><br>\n",
    "<a href=\"https://www.sciencedirect.com/science/article/abs/pii/030438359490099X\" target=\"_blank\">William H.Wolberg - Machine learning techniques to diagnose breast cancer from image-processed nuclear features of fine needle aspirates</a>"
   ]
  },
  {
   "cell_type": "markdown",
   "id": "a3cbd031",
   "metadata": {},
   "source": [
    "### Importing the Data\n",
    "\n",
    "Source: <a href=\"https://www.kaggle.com/datasets/uciml/breast-cancer-wisconsin-data\" target=\"_blank\">Kaggle: Breast Cancer Wisconsin (Diagnostic) Data Set</a>"
   ]
  },
  {
   "cell_type": "code",
   "execution_count": 12,
   "id": "e9eddf94",
   "metadata": {},
   "outputs": [],
   "source": [
    "df = pd.read_csv(\"data.csv\")"
   ]
  },
  {
   "cell_type": "code",
   "execution_count": 4,
   "id": "d3f1fd99",
   "metadata": {
    "scrolled": true
   },
   "outputs": [
    {
     "data": {
      "text/html": [
       "<div>\n",
       "<style scoped>\n",
       "    .dataframe tbody tr th:only-of-type {\n",
       "        vertical-align: middle;\n",
       "    }\n",
       "\n",
       "    .dataframe tbody tr th {\n",
       "        vertical-align: top;\n",
       "    }\n",
       "\n",
       "    .dataframe thead th {\n",
       "        text-align: right;\n",
       "    }\n",
       "</style>\n",
       "<table border=\"1\" class=\"dataframe\">\n",
       "  <thead>\n",
       "    <tr style=\"text-align: right;\">\n",
       "      <th></th>\n",
       "      <th>id</th>\n",
       "      <th>diagnosis</th>\n",
       "      <th>radius_mean</th>\n",
       "      <th>texture_mean</th>\n",
       "      <th>perimeter_mean</th>\n",
       "      <th>area_mean</th>\n",
       "      <th>smoothness_mean</th>\n",
       "      <th>compactness_mean</th>\n",
       "      <th>concavity_mean</th>\n",
       "      <th>concave points_mean</th>\n",
       "      <th>...</th>\n",
       "      <th>texture_worst</th>\n",
       "      <th>perimeter_worst</th>\n",
       "      <th>area_worst</th>\n",
       "      <th>smoothness_worst</th>\n",
       "      <th>compactness_worst</th>\n",
       "      <th>concavity_worst</th>\n",
       "      <th>concave points_worst</th>\n",
       "      <th>symmetry_worst</th>\n",
       "      <th>fractal_dimension_worst</th>\n",
       "      <th>Unnamed: 32</th>\n",
       "    </tr>\n",
       "  </thead>\n",
       "  <tbody>\n",
       "    <tr>\n",
       "      <th>0</th>\n",
       "      <td>842302</td>\n",
       "      <td>M</td>\n",
       "      <td>17.99</td>\n",
       "      <td>10.38</td>\n",
       "      <td>122.80</td>\n",
       "      <td>1001.0</td>\n",
       "      <td>0.11840</td>\n",
       "      <td>0.27760</td>\n",
       "      <td>0.3001</td>\n",
       "      <td>0.14710</td>\n",
       "      <td>...</td>\n",
       "      <td>17.33</td>\n",
       "      <td>184.60</td>\n",
       "      <td>2019.0</td>\n",
       "      <td>0.1622</td>\n",
       "      <td>0.6656</td>\n",
       "      <td>0.7119</td>\n",
       "      <td>0.2654</td>\n",
       "      <td>0.4601</td>\n",
       "      <td>0.11890</td>\n",
       "      <td>NaN</td>\n",
       "    </tr>\n",
       "    <tr>\n",
       "      <th>1</th>\n",
       "      <td>842517</td>\n",
       "      <td>M</td>\n",
       "      <td>20.57</td>\n",
       "      <td>17.77</td>\n",
       "      <td>132.90</td>\n",
       "      <td>1326.0</td>\n",
       "      <td>0.08474</td>\n",
       "      <td>0.07864</td>\n",
       "      <td>0.0869</td>\n",
       "      <td>0.07017</td>\n",
       "      <td>...</td>\n",
       "      <td>23.41</td>\n",
       "      <td>158.80</td>\n",
       "      <td>1956.0</td>\n",
       "      <td>0.1238</td>\n",
       "      <td>0.1866</td>\n",
       "      <td>0.2416</td>\n",
       "      <td>0.1860</td>\n",
       "      <td>0.2750</td>\n",
       "      <td>0.08902</td>\n",
       "      <td>NaN</td>\n",
       "    </tr>\n",
       "    <tr>\n",
       "      <th>2</th>\n",
       "      <td>84300903</td>\n",
       "      <td>M</td>\n",
       "      <td>19.69</td>\n",
       "      <td>21.25</td>\n",
       "      <td>130.00</td>\n",
       "      <td>1203.0</td>\n",
       "      <td>0.10960</td>\n",
       "      <td>0.15990</td>\n",
       "      <td>0.1974</td>\n",
       "      <td>0.12790</td>\n",
       "      <td>...</td>\n",
       "      <td>25.53</td>\n",
       "      <td>152.50</td>\n",
       "      <td>1709.0</td>\n",
       "      <td>0.1444</td>\n",
       "      <td>0.4245</td>\n",
       "      <td>0.4504</td>\n",
       "      <td>0.2430</td>\n",
       "      <td>0.3613</td>\n",
       "      <td>0.08758</td>\n",
       "      <td>NaN</td>\n",
       "    </tr>\n",
       "    <tr>\n",
       "      <th>3</th>\n",
       "      <td>84348301</td>\n",
       "      <td>M</td>\n",
       "      <td>11.42</td>\n",
       "      <td>20.38</td>\n",
       "      <td>77.58</td>\n",
       "      <td>386.1</td>\n",
       "      <td>0.14250</td>\n",
       "      <td>0.28390</td>\n",
       "      <td>0.2414</td>\n",
       "      <td>0.10520</td>\n",
       "      <td>...</td>\n",
       "      <td>26.50</td>\n",
       "      <td>98.87</td>\n",
       "      <td>567.7</td>\n",
       "      <td>0.2098</td>\n",
       "      <td>0.8663</td>\n",
       "      <td>0.6869</td>\n",
       "      <td>0.2575</td>\n",
       "      <td>0.6638</td>\n",
       "      <td>0.17300</td>\n",
       "      <td>NaN</td>\n",
       "    </tr>\n",
       "    <tr>\n",
       "      <th>4</th>\n",
       "      <td>84358402</td>\n",
       "      <td>M</td>\n",
       "      <td>20.29</td>\n",
       "      <td>14.34</td>\n",
       "      <td>135.10</td>\n",
       "      <td>1297.0</td>\n",
       "      <td>0.10030</td>\n",
       "      <td>0.13280</td>\n",
       "      <td>0.1980</td>\n",
       "      <td>0.10430</td>\n",
       "      <td>...</td>\n",
       "      <td>16.67</td>\n",
       "      <td>152.20</td>\n",
       "      <td>1575.0</td>\n",
       "      <td>0.1374</td>\n",
       "      <td>0.2050</td>\n",
       "      <td>0.4000</td>\n",
       "      <td>0.1625</td>\n",
       "      <td>0.2364</td>\n",
       "      <td>0.07678</td>\n",
       "      <td>NaN</td>\n",
       "    </tr>\n",
       "  </tbody>\n",
       "</table>\n",
       "<p>5 rows × 33 columns</p>\n",
       "</div>"
      ],
      "text/plain": [
       "         id diagnosis  radius_mean  texture_mean  perimeter_mean  area_mean  \\\n",
       "0    842302         M        17.99         10.38          122.80     1001.0   \n",
       "1    842517         M        20.57         17.77          132.90     1326.0   \n",
       "2  84300903         M        19.69         21.25          130.00     1203.0   \n",
       "3  84348301         M        11.42         20.38           77.58      386.1   \n",
       "4  84358402         M        20.29         14.34          135.10     1297.0   \n",
       "\n",
       "   smoothness_mean  compactness_mean  concavity_mean  concave points_mean  \\\n",
       "0          0.11840           0.27760          0.3001              0.14710   \n",
       "1          0.08474           0.07864          0.0869              0.07017   \n",
       "2          0.10960           0.15990          0.1974              0.12790   \n",
       "3          0.14250           0.28390          0.2414              0.10520   \n",
       "4          0.10030           0.13280          0.1980              0.10430   \n",
       "\n",
       "   ...  texture_worst  perimeter_worst  area_worst  smoothness_worst  \\\n",
       "0  ...          17.33           184.60      2019.0            0.1622   \n",
       "1  ...          23.41           158.80      1956.0            0.1238   \n",
       "2  ...          25.53           152.50      1709.0            0.1444   \n",
       "3  ...          26.50            98.87       567.7            0.2098   \n",
       "4  ...          16.67           152.20      1575.0            0.1374   \n",
       "\n",
       "   compactness_worst  concavity_worst  concave points_worst  symmetry_worst  \\\n",
       "0             0.6656           0.7119                0.2654          0.4601   \n",
       "1             0.1866           0.2416                0.1860          0.2750   \n",
       "2             0.4245           0.4504                0.2430          0.3613   \n",
       "3             0.8663           0.6869                0.2575          0.6638   \n",
       "4             0.2050           0.4000                0.1625          0.2364   \n",
       "\n",
       "   fractal_dimension_worst  Unnamed: 32  \n",
       "0                  0.11890          NaN  \n",
       "1                  0.08902          NaN  \n",
       "2                  0.08758          NaN  \n",
       "3                  0.17300          NaN  \n",
       "4                  0.07678          NaN  \n",
       "\n",
       "[5 rows x 33 columns]"
      ]
     },
     "execution_count": 4,
     "metadata": {},
     "output_type": "execute_result"
    }
   ],
   "source": [
    "df.head()"
   ]
  },
  {
   "cell_type": "markdown",
   "id": "ecd25cd7",
   "metadata": {},
   "source": [
    "### About the Data\n",
    "\n",
    "The data is made up of 569 rows each representing a sample. \n",
    "\n",
    "It's 33 columns are made up of:\n",
    "1. The patient's ID and their diagnosis. These are types ints and strings respectively. \n",
    "2. Ten real-valued features that are computed for each cell nucleus:\n",
    "    - **Radius** - mean of distances from center to points on the perimeter\n",
    "    - **Texture** - standard deviation of gray-scale values\n",
    "    - **Perimeter** \n",
    "    - **Area**\n",
    "    - **Smoothness** - local variation in radius lengths\n",
    "    - **Compactness** - $\\frac{perimeter^2}{area - 1.0}$\n",
    "    - **Concavity** - severity of concave portions of the contour\n",
    "    - **Concave Points** - number of concave portions of the contour\n",
    "    - **Symmetry**\n",
    "    - **Fractal dimension** - coastline approximation - 1\n",
    "    \n",
    "For each of the 10 the mean value, extreme value and standard error of each feature are calculated. \n",
    "\n",
    "All feature values are floats recorded to four significant digits.\n",
    "3. Missing attribute values: none. "
   ]
  },
  {
   "cell_type": "code",
   "execution_count": 6,
   "id": "c05a651d",
   "metadata": {
    "scrolled": true
   },
   "outputs": [
    {
     "data": {
      "text/plain": [
       "(569, 33)"
      ]
     },
     "execution_count": 6,
     "metadata": {},
     "output_type": "execute_result"
    }
   ],
   "source": [
    "df.shape"
   ]
  },
  {
   "cell_type": "code",
   "execution_count": 8,
   "id": "00fd8c9e",
   "metadata": {
    "scrolled": false
   },
   "outputs": [
    {
     "data": {
      "text/plain": [
       "Index(['id', 'diagnosis', 'radius_mean', 'texture_mean', 'perimeter_mean',\n",
       "       'area_mean', 'smoothness_mean', 'compactness_mean', 'concavity_mean',\n",
       "       'concave points_mean', 'symmetry_mean', 'fractal_dimension_mean',\n",
       "       'radius_se', 'texture_se', 'perimeter_se', 'area_se', 'smoothness_se',\n",
       "       'compactness_se', 'concavity_se', 'concave points_se', 'symmetry_se',\n",
       "       'fractal_dimension_se', 'radius_worst', 'texture_worst',\n",
       "       'perimeter_worst', 'area_worst', 'smoothness_worst',\n",
       "       'compactness_worst', 'concavity_worst', 'concave points_worst',\n",
       "       'symmetry_worst', 'fractal_dimension_worst', 'Unnamed: 32'],\n",
       "      dtype='object')"
      ]
     },
     "execution_count": 8,
     "metadata": {},
     "output_type": "execute_result"
    }
   ],
   "source": [
    "df.columns"
   ]
  },
  {
   "cell_type": "code",
   "execution_count": 10,
   "id": "d04864a7",
   "metadata": {
    "scrolled": true
   },
   "outputs": [
    {
     "data": {
      "text/plain": [
       "id                           int64\n",
       "diagnosis                   object\n",
       "radius_mean                float64\n",
       "texture_mean               float64\n",
       "perimeter_mean             float64\n",
       "area_mean                  float64\n",
       "smoothness_mean            float64\n",
       "compactness_mean           float64\n",
       "concavity_mean             float64\n",
       "concave points_mean        float64\n",
       "symmetry_mean              float64\n",
       "fractal_dimension_mean     float64\n",
       "radius_se                  float64\n",
       "texture_se                 float64\n",
       "perimeter_se               float64\n",
       "area_se                    float64\n",
       "smoothness_se              float64\n",
       "compactness_se             float64\n",
       "concavity_se               float64\n",
       "concave points_se          float64\n",
       "symmetry_se                float64\n",
       "fractal_dimension_se       float64\n",
       "radius_worst               float64\n",
       "texture_worst              float64\n",
       "perimeter_worst            float64\n",
       "area_worst                 float64\n",
       "smoothness_worst           float64\n",
       "compactness_worst          float64\n",
       "concavity_worst            float64\n",
       "concave points_worst       float64\n",
       "symmetry_worst             float64\n",
       "fractal_dimension_worst    float64\n",
       "Unnamed: 32                float64\n",
       "dtype: object"
      ]
     },
     "execution_count": 10,
     "metadata": {},
     "output_type": "execute_result"
    }
   ],
   "source": [
    "df.dtypes"
   ]
  },
  {
   "cell_type": "code",
   "execution_count": null,
   "id": "07f2a964",
   "metadata": {},
   "outputs": [],
   "source": []
  },
  {
   "cell_type": "code",
   "execution_count": null,
   "id": "eee9c961",
   "metadata": {},
   "outputs": [],
   "source": []
  },
  {
   "cell_type": "code",
   "execution_count": null,
   "id": "1c453fcb",
   "metadata": {},
   "outputs": [],
   "source": []
  },
  {
   "cell_type": "code",
   "execution_count": null,
   "id": "2bfa5dfe",
   "metadata": {},
   "outputs": [],
   "source": []
  }
 ],
 "metadata": {
  "kernelspec": {
   "display_name": "Python 3 (ipykernel)",
   "language": "python",
   "name": "python3"
  },
  "language_info": {
   "codemirror_mode": {
    "name": "ipython",
    "version": 3
   },
   "file_extension": ".py",
   "mimetype": "text/x-python",
   "name": "python",
   "nbconvert_exporter": "python",
   "pygments_lexer": "ipython3",
   "version": "3.9.13"
  }
 },
 "nbformat": 4,
 "nbformat_minor": 5
}
